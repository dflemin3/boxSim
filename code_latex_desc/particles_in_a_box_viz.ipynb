{
 "cells": [
  {
   "cell_type": "code",
   "execution_count": 43,
   "metadata": {
    "collapsed": true
   },
   "outputs": [],
   "source": [
    "%matplotlib inline\n",
    "\n",
    "#Imports\n",
    "from matplotlib.pylab import *\n",
    "import matplotlib.pylab as plt\n",
    "import numpy as np\n",
    "import matplotlib.gridspec as gridspec\n",
    "\n",
    "rc('font', **{'family': 'serif', 'serif': ['Computer Modern']})\n",
    "mpl.rcParams['font.size'] = 20.0"
   ]
  },
  {
   "cell_type": "code",
   "execution_count": 28,
   "metadata": {
    "collapsed": true
   },
   "outputs": [],
   "source": [
    "def maxwell_v(m,T,N,v):\n",
    "    #2d maxwell dn/dv\n",
    "    k_b = 1.3806488e-16 #k_b in cgs\n",
    "    tmp = m*N/(k_b*T)\n",
    "    tmp *= v*np.exp(-m*v*v/(2.0*k_b*T))\n",
    "    return tmp\n",
    "\n",
    "def maxwell_e(m,T,N,E):\n",
    "    #2d maxwell dn/dE\n",
    "    k_b = 1.3806488e-16 #k_b in cgs\n",
    "    tmp = N/(k_b*T)\n",
    "    tmp *= np.exp(-E/(k_b*T))\n",
    "    return tmp\n",
    "    \n",
    "def compute_v(m,T):\n",
    "    k_b = 1.3806488e-16 #k_b in cgs\n",
    "    return np.sqrt(3.0*T*k_b/m)\n",
    "\n",
    "def compute_v_mean(m,T):\n",
    "    k_b = 1.3806488e-16 #k_b in cgs\n",
    "    return np.sqrt(8.0*k_b*T/(np.pi*m))"
   ]
  },
  {
   "cell_type": "code",
   "execution_count": 29,
   "metadata": {
    "collapsed": false
   },
   "outputs": [],
   "source": [
    "m_p = 1.6726219e-24\n",
    "T = 273.0 #temp in kelvin\n",
    "v = compute_v(m_p,T)\n",
    "N = 100"
   ]
  },
  {
   "cell_type": "code",
   "execution_count": 92,
   "metadata": {
    "collapsed": false
   },
   "outputs": [],
   "source": [
    "\"\"\"\n",
    "data1 = np.genfromtxt(\"output1.dat\")\n",
    "data2 = np.genfromtxt(\"output2.dat\")\n",
    "data3 = np.genfromtxt(\"output3.dat\")\n",
    "data4 = np.genfromtxt(\"output4.dat\")\n",
    "data5 = np.genfromtxt(\"output5.dat\")\n",
    "data6 = np.genfromtxt(\"output6.dat\")\n",
    "data7 = np.genfromtxt(\"output7.dat\")\n",
    "data8 = np.genfromtxt(\"output8.dat\")\n",
    "data9 = np.genfromtxt(\"output9.dat\")\n",
    "data10 = np.genfromtxt(\"output10.dat\")\n",
    "\"\"\"\n",
    "cwd = \"/Users/dflemin3/Desktop/Career/Grad Classes/Astr_507/boxSim\"\n",
    "data = np.genfromtxt(cwd+\"/output.dat\")\n",
    "\n",
    "#1st 100 rows = ICs, 2nd 100 = final\n",
    "#data_init = np.concatenate((data1[:100],data2[:100],data3[:100],data4[:100],data5[:100],\n",
    "#                           data6[:100],data7[:100],data8[:100],data9[:100],data10[:100]))\n",
    "#data_final = np.concatenate((data1[100:],data2[100:],data3[100:],data4[100:],data5[100:],\n",
    "#                            data6[100:],data7[100:],data8[100:],data9[100:],data10[100:]))\n",
    "\n",
    "data_init = data[:100]\n",
    "data_final = data[-100:]\n",
    "\n",
    "pos_init = data_init[:,1:3]/8.775e-14\n",
    "vel_init = data_init[:,3:]\n",
    "\n",
    "pos_final = data_final[:,1:3]/8.775e-14\n",
    "vel_final = data_final[:,3:]\n",
    "\n",
    "vel_init = np.sqrt(vel_init[:,0]**2 + vel_init[:,1]**2)\n",
    "vel_final = np.sqrt(vel_final[:,0]**2 + vel_final[:,1]**2)\n",
    "\n",
    "#Create data histogram for scaling purposes\n",
    "#Final velocity histogram\n",
    "vel_final_hist, bin_edges = np.histogram(vel_final, bins=30, density = True)\n",
    "vel_final_hist = vel_final_hist * N #Scale so integral gives particle number\n",
    "v_bin_center = (bin_edges[:-1] + bin_edges[1:])/2.0\n",
    "\n",
    "e_init = 0.5*m_p*(vel_init*vel_init)\n",
    "e_final = 0.5*m_p*(vel_final*vel_final)\n",
    "\n",
    "#Final Energy Histogram\n",
    "e_final_hist, bin_edges = np.histogram(e_final, bins=30, density = True)\n",
    "e_final_hist = e_final_hist * N #Scale so integral gives particle number\n",
    "e_bin_center = (bin_edges[:-1] + bin_edges[1:])/2.0\n",
    "\n",
    "v_f = np.linspace(0.0,vel_final[mask].max(),200)\n",
    "e_f = np.linspace(e_final.min(),e_final.max(),200)\n",
    "\n",
    "fit = maxwell_v(m_p,T,N,v_f)\n",
    "fit_mass = maxwell_v(10.0*m_p,T,N,v_f)\n",
    "fit_e = maxwell_e(m_p,T,N,e_f)\n",
    "fit_e_mass = maxwell_e(10*m_p,T,N,e_f)"
   ]
  },
  {
   "cell_type": "code",
   "execution_count": null,
   "metadata": {
    "collapsed": false
   },
   "outputs": [],
   "source": [
    "plt.rcParams['font.size'] = 15\n",
    "plt.rcParams['figure.figsize'] = (10,12)\n",
    "\n",
    "gs = gridspec.GridSpec(2, 1)\n",
    "gs.update(hspace=0.25)\n",
    "\n",
    "ax3 = plt.subplot(gs[0])\n",
    "ax3.hist(vel_init, 35, normed=0, facecolor='green', alpha=0.75)\n",
    "ax3.set_xlabel(r\"speed [cm s$^{-1}$]\")\n",
    "ax3.set_ylabel(\"Counts\")\n",
    "ax3.set_title(\"Initial Velocity Distribution\")\n",
    "\n",
    "ax4 = plt.subplot(gs[1])\n",
    "ax4.step(v_bin_center,vel_final_hist, alpha=0.75,linewidth=5,label=\"Simulation\")\n",
    "ax4.plot(v_f,fit_mass,color='red',linewidth=4,label=\"Maxwell Dist T = 273K\")\n",
    "ax4.plot(v_f,fit,color='green',linewidth=4,label=\"Maxwell Dist T = 273K\")\n",
    "\n",
    "ax4.set_title(\"Final Velocity Distribution\")\n",
    "\n",
    "ax4.set_ylabel(\"Density\")\n",
    "ax4.set_xlabel(r\"speed [cm s$^{-1}$]\")\n",
    "\n",
    "plt.legend()\n",
    "#plt.savefig(\"vel_dist.eps\",bbox_inches=\"tight\")"
   ]
  },
  {
   "cell_type": "markdown",
   "metadata": {},
   "source": [
    "# Determine when simulation converges"
   ]
  },
  {
   "cell_type": "code",
   "execution_count": 161,
   "metadata": {
    "collapsed": false
   },
   "outputs": [
    {
     "name": "stdout",
     "output_type": "stream",
     "text": [
      "949 1.056917433e-16\n"
     ]
    }
   ],
   "source": [
    "#Evolve v distribution, see when it reaches steady state\n",
    "plt.rcParams['figure.figsize'] = (8,8)\n",
    "data = np.genfromtxt(cwd+\"/output.dat\")\n",
    "\n",
    "eps = 0.01\n",
    "\n",
    "pos = data[:,1:3]/8.775e-14\n",
    "vel = data[:,3:]\n",
    "dt = data[100,0] - data[0,0]\n",
    "\n",
    "vel = np.sqrt(vel[:,0]**2 + vel[:,1]**2)\n",
    "\n",
    "tmp = []\n",
    "\n",
    "hist_len = 20\n",
    "v =np.linspace(1,650000,hist_len)\n",
    "theo_hist = maxwell_v(m_p,T,N,v)/N\n",
    "\n",
    "for i in range(1,len(data)/100):\n",
    "    beg = i*100\n",
    "    end = beg+100\n",
    "    #Final velocity histogram\n",
    "    vel_hist, bin_edges = np.histogram(vel[beg:end], bins=hist_len, density = True)\n",
    "    \n",
    "    tmp.append(np.sum((vel_hist - theo_hist)**2/theo_hist))\n",
    "    #See if it converged\n",
    "    if((np.sum((vel_hist - theo_hist)**2/theo_hist)) < eps):\n",
    "        print i, i * dt\n",
    "        \n",
    "        #Plot to confirm\n",
    "        #plt.hist(vel[beg:end],bins=hist_len, normed=1)\n",
    "        #plt.plot(v_f,fit/N,color='red',linewidth=4,label=\"Maxwell Dist T = 273K\")\n",
    "\n",
    "        \n",
    "        break"
   ]
  },
  {
   "cell_type": "code",
   "execution_count": 162,
   "metadata": {
    "collapsed": false
   },
   "outputs": [
    {
     "name": "stdout",
     "output_type": "stream",
     "text": [
      "1.29869075738e+24\n",
      "[  4.21864001e-18   1.68745600e-17   6.74982401e-17   2.69992960e-16]\n"
     ]
    }
   ],
   "source": [
    "SIZE = 8.775e-14\n",
    "v = compute_v(m_p,T)\n",
    "print 100/(SIZE*100*SIZE*100)\n",
    "n_fixed = 100.0/(50*50*SIZE*SIZE)\n",
    "\n",
    "def tau(a,n,v):\n",
    "    return 1.0/(2.0*a*n*v)\n",
    "\n",
    "#For box that is (100*SIZE)^2\n",
    "a_arr = np.asarray([0.1*SIZE,0.5*SIZE,SIZE,5*SIZE])\n",
    "a_res = np.asarray([5.716709361e-17,7.7960204e-18,4.2321246e-18,5.568586e-19])\n",
    "tau_a = tau(a_arr,n_fixed,v)\n",
    "\n",
    "n_arr = 100.0/(np.asarray([(50.*SIZE)**2,(100.*SIZE)**2,(200.*SIZE)**2,(400.*SIZE)**2]))\n",
    "n_res = np.asarray([1.6705755e-18,1.84877022e-17,4.02051837e-17,1.056917433e-16])\n",
    "tau_n = tau(SIZE,n_arr,v);\n",
    "print tau_n"
   ]
  },
  {
   "cell_type": "code",
   "execution_count": 182,
   "metadata": {
    "collapsed": false
   },
   "outputs": [
    {
     "data": {
      "image/png": "[encoded data removed]",
      "text/plain": [
       "<matplotlib.figure.Figure at 0x109d4fa50>"
      ]
     },
     "metadata": {},
     "output_type": "display_data"
    }
   ],
   "source": [
    "plt.rcParams['font.size'] = 16\n",
    "plt.rcParams['figure.figsize'] = (10,16)\n",
    "import matplotlib.gridspec as gridspec\n",
    "gs = gridspec.GridSpec(2, 1)\n",
    "gs.update(hspace=0.25)\n",
    "\n",
    "#Top plot: P vs T\n",
    "ax1 = plt.subplot(gs[0])\n",
    "ax1.plot(n_arr,n_res,'o-',label=\"Simulation Data\",linewidth=2)\n",
    "ax1.plot(n_arr,tau_n,'o-',color='red',linewidth=2,label=\"Theory\")\n",
    "#ax1.semilogy()\n",
    "#ax1.semilogx()\n",
    "ax1.set_xlabel(\"n [particles/cm$^2$]\")\n",
    "ax1.set_ylabel(r\"Relaxation Time [s]\")\n",
    "#ax1.set_xlim(90,T_arr.max()+1000)\n",
    "ax1.set_title(r\"Simulated Relaxation time vs. $\\tau = \\frac{1}{2nav}$\",y=1.04)\n",
    "\n",
    "plt.legend(loc='upper right')\n",
    "\n",
    "#Bottom plot: P vs n\n",
    "ax2 = plt.subplot(gs[1])\n",
    "ax2.plot(a_arr,a_res,'o-',label=\"Simulation Data\",linewidth=2)\n",
    "ax2.plot(a_arr,tau_a,'o-',color='red',linewidth=2,label=\"Theory\")\n",
    "#ax2.semilogy()\n",
    "#ax2.semilogx()\n",
    "ax2.set_xlabel(\"a [cm$^2$]\")\n",
    "ax2.set_ylabel(r\"Relaxation Time [s]\")\n",
    "plt.legend(loc='upper right')\n",
    "\n",
    "#plt.savefig(\"tau.eps\",bbox_inches=\"tight\")"
   ]
  },
  {
   "cell_type": "markdown",
   "metadata": {},
   "source": [
    "# Plot initial, final particle positions"
   ]
  },
  {
   "cell_type": "code",
   "execution_count": 17,
   "metadata": {
    "collapsed": false
   },
   "outputs": [
    {
     "data": {
      "text/plain": [
       "<matplotlib.text.Text at 0x107a91e50>"
      ]
     },
     "execution_count": 17,
     "metadata": {},
     "output_type": "execute_result"
    },
    {
     "data": {
      "image/png": "[encoded data removed]",
      "text/plain": [
       "<matplotlib.figure.Figure at 0x107222c90>"
      ]
     },
     "metadata": {},
     "output_type": "display_data"
    }
   ],
   "source": [
    "#Plot initial, final particle positions\n",
    "plt.rcParams['font.size'] = 15\n",
    "plt.rcParams['figure.figsize'] = (10,12)\n",
    "\n",
    "gs = gridspec.GridSpec(2, 1)\n",
    "gs.update(wspace=0.25)\n",
    "\n",
    "ax1 = plt.subplot(gs[0])\n",
    "ax1.scatter(pos_init[::10,0],pos_init[::10,1])\n",
    "ax1.set_xlim(-1,51)\n",
    "ax1.set_ylim(-1,51)\n",
    "ax1.set_title(\"Initial Particle Positions where r$_{particle}$ = 1\")\n",
    "\n",
    "ax2 = plt.subplot(gs[1])\n",
    "ax2.scatter(pos_final[::10,0],pos_final[::10,1])\n",
    "ax2.set_xlim(-1,51)\n",
    "ax2.set_ylim(-1,51)\n",
    "ax2.set_title(\"Final Particle Positions where r$_{particle}$ = 1\")\n",
    "#plt.savefig(\"pos_dist.eps\",bbox_inches=\"tight\")"
   ]
  },
  {
   "cell_type": "code",
   "execution_count": null,
   "metadata": {
    "collapsed": false
   },
   "outputs": [],
   "source": [
    "#Energy distribution plots\n",
    "plt.rcParams['font.size'] = 15\n",
    "plt.rcParams['figure.figsize'] = (10,12)\n",
    "\n",
    "gs = gridspec.GridSpec(2, 1)\n",
    "gs.update(hspace=0.25)\n",
    "\n",
    "ax3 = plt.subplot(gs[0])\n",
    "ax3.hist(e_init, 35, normed=0, facecolor='green', alpha=0.75)\n",
    "ax3.set_xlabel(r\"energy [ergs]\")\n",
    "ax3.set_ylabel(\"Counts\")\n",
    "ax3.set_title(\"Initial Energy Distribution\")\n",
    "\n",
    "ax4 = plt.subplot(gs[1])\n",
    "ax4.step(e_bin_center,e_final_hist, alpha=0.75,linewidth=5,label='Simulation')\n",
    "ax4.plot(e_f,fit_e,color='red',linewidth=4,label=\"Maxwell Dist T = 273K\")\n",
    "ax4.set_title(\"Final Energy Distribution\")\n",
    "ax4.set_ylabel(\"Density\")\n",
    "ax4.set_xlabel(r\"energy [ergs]\")\n",
    "\n",
    "plt.legend()\n",
    "#plt.savefig(\"energy_dist.eps\",bbox_inches='tight')"
   ]
  },
  {
   "cell_type": "code",
   "execution_count": null,
   "metadata": {
    "collapsed": false
   },
   "outputs": [],
   "source": [
    "plt.rcParams['font.size'] = 15\n",
    "plt.rcParams['figure.figsize'] = (10,6)\n",
    "\n",
    "plt.hist(e_final, 35, normed=1, facecolor='green', alpha=0.75,label=r\"All $m_p$\")\n",
    "#plt.hist(e_final_mass, 35, normed=1, facecolor='blue', alpha=0.5,label=r\"Half $10m_p$\")\n",
    "plt.ylabel(\"Density\")\n",
    "plt.xlabel(r\"energy [ergs]\")\n",
    "plt.legend()\n",
    "#plt.savefig(\"energy_comp.eps\",bbox_inches='tight')"
   ]
  },
  {
   "cell_type": "markdown",
   "metadata": {
    "collapsed": true
   },
   "source": [
    "# Plots that show code maintains P = nkT"
   ]
  },
  {
   "cell_type": "code",
   "execution_count": null,
   "metadata": {
    "collapsed": false
   },
   "outputs": [],
   "source": [
    "size = 8.775e-14 #cm\n",
    "k_b = 1.3806488e-16 #k_b in cgs\n",
    "T = 273 #Fixed T, n varies\n",
    "n = 100.0/((50.0*size)**2.)\n",
    "\n",
    "def pressure(n,T):\n",
    "    k_b = 1.3806488e-16 #k_b in cgs\n",
    "    return n*k_b*T\n",
    "\n",
    "print pressure(n,T)"
   ]
  },
  {
   "cell_type": "code",
   "execution_count": null,
   "metadata": {
    "collapsed": false
   },
   "outputs": [],
   "source": [
    "#P vs T\n",
    "T_arr = np.asarray([100.0,300.0,500.0,1000.0,2500.0,5000.0,7500.0,10000.0,20000.0])\n",
    "PT_arr = np.asarray([1.683015e+11,4.758292e+11,7.925421e+11,1.727642e+12,4.386263e+12,\n",
    "                    7.225815e+12,1.207155e+13,1.659404e+13,3.266060e+13])\n",
    "\n",
    "SIZE = size\n",
    "\n",
    "#P vs n\n",
    "n_arr = np.asarray([1.0/(SIZE*SIZE*50*50),1.0/(SIZE*SIZE*100*100),1.0/(SIZE*SIZE*200*200),\n",
    "                   1.0/(SIZE*SIZE*400*400),1.0/(SIZE*SIZE*800*800)])*100.0\n",
    "Pn_arr = np.asarray([4.337695e+11,1.223321e+11,2.756479e+10,6.383140e+09,1.471349e+09])\n",
    "\n",
    "#Reverse arrays\n",
    "n_arr = n_arr[::-1]\n",
    "Pn_arr = Pn_arr[::-1]\n",
    "\n",
    "#Define fits\n",
    "Pn_fit = pressure(n_arr,T)\n",
    "PT_fit = pressure(n,T_arr)"
   ]
  },
  {
   "cell_type": "code",
   "execution_count": null,
   "metadata": {
    "collapsed": false
   },
   "outputs": [],
   "source": [
    "plt.rcParams['font.size'] = 16\n",
    "plt.rcParams['figure.figsize'] = (10,16)\n",
    "import matplotlib.gridspec as gridspec\n",
    "gs = gridspec.GridSpec(2, 1)\n",
    "gs.update(hspace=0.25)\n",
    "\n",
    "#Top plot: P vs T\n",
    "ax1 = plt.subplot(gs[0])\n",
    "ax1.scatter(T_arr,PT_arr,label=\"Simulation Data\",s=50)\n",
    "ax1.plot(T_arr,PT_fit,color='red',linewidth=2,label=\"P=nkT\")\n",
    "ax1.semilogy()\n",
    "ax1.semilogx()\n",
    "ax1.set_xlabel(\"Temperature (K)\")\n",
    "ax1.set_ylabel(r\"Pressure [g s${^-2}$]\")\n",
    "ax1.set_xlim(90,T_arr.max()+1000)\n",
    "ax1.set_title(\"Cumulative Pressure for n = %.1e particles/cm$^2$\" %n)\n",
    "\n",
    "plt.legend(loc='upper left')\n",
    "\n",
    "#Bottom plot: P vs n\n",
    "ax2 = plt.subplot(gs[1])\n",
    "ax2.scatter(n_arr,Pn_arr,label=\"Simulation Data\",s=50)\n",
    "ax2.plot(n_arr,Pn_fit,color='red',linewidth=2,label=\"P=nkT\")\n",
    "ax2.semilogy()\n",
    "ax2.semilogx()\n",
    "ax2.set_xlabel(\"n [particles/cm$^2$]\")\n",
    "ax2.set_ylabel(r\"Pressure [g s${^-2}$]\")\n",
    "ax2.set_xlim(1.0e22,n_arr.max()+5.0e24)\n",
    "ax2.set_title(\"Cumulative Pressure for T = %d K\" % T)\n",
    "plt.legend(loc='upper left')\n",
    "\n",
    "#plt.savefig(\"pv_nrt.eps\",bbox_inches=\"tight\")"
   ]
  },
  {
   "cell_type": "code",
   "execution_count": null,
   "metadata": {
    "collapsed": false
   },
   "outputs": [],
   "source": [
    "cols = np.genfromtxt(cwd+\"/mean_v.dat\")\n",
    "dt = cols[1,0] - cols[0,0]\n",
    "print dt\n",
    "time = dt*np.linspace(0,len(cols),len(cols))"
   ]
  },
  {
   "cell_type": "code",
   "execution_count": null,
   "metadata": {
    "collapsed": false
   },
   "outputs": [],
   "source": [
    "lim = len(time)-1\n",
    "min_lim = 0\n",
    "v_m =compute_v_mean(m_p,T)\n",
    "col_mean = np.median(cols[:,1])\n",
    "col_std = np.std(cols[:,1])\n",
    "\n",
    "print(col_mean)\n",
    "print(col_std)\n",
    "\n",
    "plt.scatter(time[min_lim:lim],cols[min_lim:lim,1])\n",
    "\n",
    "plt.axhline(y=col_mean, xmin=0, xmax=1, linewidth=2, color = 'k')\n",
    "plt.axhline(y=v_m, xmin=0, xmax=1, linewidth=2, color = 'red')\n",
    "\n",
    "plt.fill_between(time,col_mean-2*col_std,col_mean+2*col_std,alpha=0.25)\n",
    "\n",
    "\n",
    "#plt.ylim(col_mean-(2*col_std),col_mean+(2*col_std))\n",
    "plt.xlim(time[min_lim],time[lim])"
   ]
  },
  {
   "cell_type": "code",
   "execution_count": null,
   "metadata": {
    "collapsed": true
   },
   "outputs": [],
   "source": []
  }
 ],
 "metadata": {
  "kernelspec": {
   "display_name": "Python 2",
   "language": "python",
   "name": "python2"
  },
  "language_info": {
   "codemirror_mode": {
    "name": "ipython",
    "version": 2
   },
   "file_extension": ".py",
   "mimetype": "text/x-python",
   "name": "python",
   "nbconvert_exporter": "python",
   "pygments_lexer": "ipython2",
   "version": "2.7.10"
  }
 },
 "nbformat": 4,
 "nbformat_minor": 0
}
